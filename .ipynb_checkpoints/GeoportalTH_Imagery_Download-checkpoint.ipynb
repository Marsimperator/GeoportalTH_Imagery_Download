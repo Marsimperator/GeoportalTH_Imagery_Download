{
 "cells": [
  {
   "cell_type": "code",
   "execution_count": 1,
   "metadata": {},
   "outputs": [],
   "source": [
    "########################################################\n",
    "# GEO419 Projekt Nr. 2\n",
    "# Download of Imagery from the Thuringian Geoportal\n",
    "# Marcel Felix & Friederike Metz\n",
    "# from Sept. 2021 to Feb. 2022\n",
    "########################################################"
   ]
  },
  {
   "cell_type": "code",
   "execution_count": 2,
   "metadata": {},
   "outputs": [],
   "source": [
    "### Download URL original\n",
    "## Höhendaten:\n",
    "# https://geoportal.geoportal-th.de/hoehendaten/DGM/dgm_2014-2019/dgm1_682_5644_1_th_2014-2019.zip?type=dhm1&id=16541&log=682_5644_1x1km&url=%2Fhoehendaten%2FDGM%2Fdgm_2014-2019%2Fdgm1_682_5644_1_th_2014-2019.zip\n",
    "## Orthophotos:\n",
    "# https://geoportal.geoportal-th.de/gaialight-th/_apps/dladownload/download.php?type=op&id=255133&log=202005-32682_5644\n",
    "\n",
    "### Gekürzt\n",
    "## Höhendaten:\n",
    "# DGM\n",
    "# https://geoportal.geoportal-th.de/hoehendaten/DGM/dgm_2014-2019/dgm1_682_5644_1_th_2014-2019.zip\n",
    "# DOM\n",
    "# https://geoportal.geoportal-th.de/hoehendaten/DOM/dom_2014-2019/dom1_682_5644_1_th_2014-2019.zip\n",
    "# LAS\n",
    "# https://geoportal.geoportal-th.de/hoehendaten/LAS/las_2014-2019/las_682_5644_1_th_2014-2019.zip+\n",
    "## Orthophotos:\n",
    "# https://geoportal.geoportal-th.de/gaialight-th/_apps/dladownload/download.php?type=op&id=255133\n",
    "# filename: dop20rgbi_32_641_5656_1_th_2020.zip"
   ]
  },
  {
   "cell_type": "code",
   "execution_count": 3,
   "metadata": {},
   "outputs": [],
   "source": [
    "### ID Kachelbenennung\n",
    "## Höhendaten: \n",
    "# 682_5644 -> 682 steht für die West-Ost-Ausrichtung (nach Osten aufsteigend)\n",
    "# 682_5644 -> 5644 steht für die Nord-Süd-Ausrichtung (nach Norden aufsteigend)\n",
    "\n",
    "# Die Kacheln (Position) für Höhendaten und Orthophotos sind identisch\n",
    "# ...das bedeutet man kann identifizieren, welche Kacheln der Orthophotos gebraucht werden \n",
    "# ...ohne ihre ID vorher zu kennen. Stattdessen muss man sie berechnen:\n",
    "\n",
    "## Orthophotos:\n",
    "# 255133 -> 255 steht für ???\n",
    "# 255133 -> 133 steht für ???"
   ]
  },
  {
   "cell_type": "code",
   "execution_count": 5,
   "metadata": {},
   "outputs": [
    {
     "ename": "ModuleNotFoundError",
     "evalue": "No module named 'gdal'",
     "output_type": "error",
     "traceback": [
      "\u001b[1;31m---------------------------------------------------------------------------\u001b[0m",
      "\u001b[1;31mModuleNotFoundError\u001b[0m                       Traceback (most recent call last)",
      "\u001b[1;32m<ipython-input-5-10b1c841a4e5>\u001b[0m in \u001b[0;36m<module>\u001b[1;34m\u001b[0m\n\u001b[0;32m      1\u001b[0m \u001b[1;31m### Importblock\u001b[0m\u001b[1;33m\u001b[0m\u001b[1;33m\u001b[0m\u001b[1;33m\u001b[0m\u001b[0m\n\u001b[0;32m      2\u001b[0m \u001b[1;32mimport\u001b[0m \u001b[0mos\u001b[0m\u001b[1;33m\u001b[0m\u001b[1;33m\u001b[0m\u001b[0m\n\u001b[1;32m----> 3\u001b[1;33m \u001b[1;32mimport\u001b[0m \u001b[0mgdal\u001b[0m\u001b[1;33m\u001b[0m\u001b[1;33m\u001b[0m\u001b[0m\n\u001b[0m\u001b[0;32m      4\u001b[0m \u001b[1;32mimport\u001b[0m \u001b[0mre\u001b[0m\u001b[1;33m\u001b[0m\u001b[1;33m\u001b[0m\u001b[0m\n\u001b[0;32m      5\u001b[0m \u001b[1;32mfrom\u001b[0m \u001b[0mosgeo\u001b[0m \u001b[1;32mimport\u001b[0m \u001b[0mogr\u001b[0m\u001b[1;33m,\u001b[0m\u001b[0mosr\u001b[0m\u001b[1;33m\u001b[0m\u001b[1;33m\u001b[0m\u001b[0m\n",
      "\u001b[1;31mModuleNotFoundError\u001b[0m: No module named 'gdal'"
     ]
    }
   ],
   "source": [
    "### Importblock\n",
    "import os\n",
    "#import gdal\n",
    "import re\n",
    "from osgeo import ogr,osr\n",
    "import geopandas\n",
    "import shapely\n",
    "import zipfile\n",
    "from shapely.geometry import Polygon, LineString, Point\n",
    "import requests\n",
    "import ipyleaflet"
   ]
  },
  {
   "cell_type": "code",
   "execution_count": 4,
   "metadata": {},
   "outputs": [
    {
     "ename": "NameError",
     "evalue": "name 'requests' is not defined",
     "output_type": "error",
     "traceback": [
      "\u001b[1;31m---------------------------------------------------------------------------\u001b[0m",
      "\u001b[1;31mNameError\u001b[0m                                 Traceback (most recent call last)",
      "\u001b[1;32m<ipython-input-4-6817c7b12c51>\u001b[0m in \u001b[0;36m<module>\u001b[1;34m\u001b[0m\n\u001b[0;32m     20\u001b[0m \u001b[1;33m\u001b[0m\u001b[0m\n\u001b[0;32m     21\u001b[0m \u001b[1;32mif\u001b[0m \u001b[0mos\u001b[0m\u001b[1;33m.\u001b[0m\u001b[0mpath\u001b[0m\u001b[1;33m.\u001b[0m\u001b[0mexists\u001b[0m\u001b[1;33m(\u001b[0m\u001b[0mgridfile\u001b[0m\u001b[1;33m)\u001b[0m \u001b[1;33m==\u001b[0m \u001b[1;32mFalse\u001b[0m\u001b[1;33m:\u001b[0m\u001b[1;33m\u001b[0m\u001b[1;33m\u001b[0m\u001b[0m\n\u001b[1;32m---> 22\u001b[1;33m     \u001b[0mgrid_polygons\u001b[0m \u001b[1;33m=\u001b[0m \u001b[0mrequests\u001b[0m\u001b[1;33m.\u001b[0m\u001b[0mget\u001b[0m\u001b[1;33m(\u001b[0m\u001b[0mrequest\u001b[0m\u001b[1;33m)\u001b[0m\u001b[1;33m\u001b[0m\u001b[1;33m\u001b[0m\u001b[0m\n\u001b[0m\u001b[0;32m     23\u001b[0m     \u001b[1;32mwith\u001b[0m \u001b[0mopen\u001b[0m\u001b[1;33m(\u001b[0m\u001b[0mgridfile\u001b[0m\u001b[1;33m,\u001b[0m \u001b[1;34m\"wb\"\u001b[0m\u001b[1;33m)\u001b[0m \u001b[1;32mas\u001b[0m \u001b[0mfile\u001b[0m\u001b[1;33m:\u001b[0m\u001b[1;33m\u001b[0m\u001b[1;33m\u001b[0m\u001b[0m\n\u001b[0;32m     24\u001b[0m             \u001b[0mfile\u001b[0m\u001b[1;33m.\u001b[0m\u001b[0mwrite\u001b[0m\u001b[1;33m(\u001b[0m\u001b[0mgrid_polygons\u001b[0m\u001b[1;33m.\u001b[0m\u001b[0mcontent\u001b[0m\u001b[1;33m)\u001b[0m\u001b[1;33m\u001b[0m\u001b[1;33m\u001b[0m\u001b[0m\n",
      "\u001b[1;31mNameError\u001b[0m: name 'requests' is not defined"
     ]
    }
   ],
   "source": [
    "### User's choices\n",
    "# 1. Please select your shapefile here\n",
    "shapefile = \"F:/Marcel/Backup/Dokumente/Studium/Geoinformatik/SoSe 2021/GEO419/Abschlussaufgabe/Data/shape/shape.shp\"\n",
    "\n",
    "# 2. Please choose your dem-years (2010-2013 / 2014-2019 / 2020-2025)\n",
    "dem_year = \"2014-2019\"\n",
    "if dem_year == \"2010-2013\":\n",
    "    request = \"https://geoportal.geoportal-th.de/hoehendaten/Uebersichten/Stand_2010-2013.zip\"\n",
    "if dem_year == \"2014-2019\":\n",
    "    request = \"https://geoportal.geoportal-th.de/hoehendaten/Uebersichten/Stand_2014-2019.zip\"\n",
    "if dem_year == \"2020-2025\":\n",
    "    request = \"https://geoportal.geoportal-th.de/hoehendaten/Uebersichten/Stand_2020-2025.zip\"\n",
    "    # ^These are the download-links for the dem tile polygons\n",
    "\n",
    "# Automated DOWNLOAD OF TILE POLYGONS\n",
    "if os.path.exists(\"../Data/Stand_\"+dem_year) == False:\n",
    "    os.mkdir(\"../Data/Stand_\"+dem_year)\n",
    "\n",
    "gridfile = \"../Data/Stand_\"+dem_year+\"/Stand_\"+dem_year+\".zip\"\n",
    "\n",
    "if os.path.exists(gridfile) == False:\n",
    "    grid_polygons = requests.get(request)\n",
    "    with open(gridfile, \"wb\") as file:\n",
    "            file.write(grid_polygons.content)\n",
    "\n",
    "with zipfile.ZipFile(gridfile, 'r') as zip_ref:\n",
    "    zip_ref.extractall(\"../Data/Stand_\"+dem_year)\n",
    "os.remove(gridfile)\n",
    "            \n",
    "# 3. Please choose your desired file format (dgm / dom / las)\n",
    "dem_format = \"dgm\""
   ]
  },
  {
   "cell_type": "code",
   "execution_count": 3,
   "metadata": {},
   "outputs": [
    {
     "data": {
      "text/plain": [
       "['680_5643', '680_5644', '681_5643', '681_5644']"
      ]
     },
     "execution_count": 3,
     "metadata": {},
     "output_type": "execute_result"
    }
   ],
   "source": [
    "### File choices\n",
    "# 4. Intersection of shapefile with dem tile polygons\n",
    "polygon = geopandas.read_file(shapefile)\n",
    "if dem_year == \"2010-2013\":\n",
    "    grid_path = \"../Data/Stand_2010-2013/DGM2_2010-2013_Erfass-lt-Meta_UTM32-UTM_2014-12-10.shp\"\n",
    "elif dem_year == \"2014-2019\":\n",
    "    grid_path = \"../Data/Stand_2014-2019/DGM1_2014-2019_Erfass-lt-Meta_UTM_2020-04-20--17127.shp\"\n",
    "else:\n",
    "    grid_path = \"../Data/Stand_2020-2025/DGM1_2020-2025_Erfass-lt-Meta_UTM_2021-03--17127.shp\"\n",
    "    \n",
    "grid = geopandas.read_file(grid_path)\n",
    "\n",
    "tiles = []\n",
    "for poly in grid.iterrows():\n",
    "    geom = poly[1].geometry\n",
    "    for poly2 in polygon.iterrows():\n",
    "        geom2 = poly2[1].geometry\n",
    "        \n",
    "        if geom.overlaps(geom2) == True:\n",
    "            tiles.append(poly[1].NAME)\n",
    "\n",
    "# 5. dem tile names\n",
    "tiles \n",
    "\n",
    "# 6. Identifying op tile names\n",
    "#---------------"
   ]
  },
  {
   "cell_type": "code",
   "execution_count": 1,
   "metadata": {},
   "outputs": [
    {
     "ename": "NameError",
     "evalue": "name 'tiles' is not defined",
     "output_type": "error",
     "traceback": [
      "\u001b[1;31m---------------------------------------------------------------------------\u001b[0m",
      "\u001b[1;31mNameError\u001b[0m                                 Traceback (most recent call last)",
      "\u001b[1;32m<ipython-input-1-8d1e4c890717>\u001b[0m in \u001b[0;36m<module>\u001b[1;34m\u001b[0m\n\u001b[0;32m      1\u001b[0m \u001b[1;31m### Download request\u001b[0m\u001b[1;33m\u001b[0m\u001b[1;33m\u001b[0m\u001b[1;33m\u001b[0m\u001b[0m\n\u001b[0;32m      2\u001b[0m \u001b[1;31m# 7. Download of dem tiles\u001b[0m\u001b[1;33m\u001b[0m\u001b[1;33m\u001b[0m\u001b[1;33m\u001b[0m\u001b[0m\n\u001b[1;32m----> 3\u001b[1;33m \u001b[1;32mfor\u001b[0m \u001b[0mtile\u001b[0m \u001b[1;32min\u001b[0m \u001b[0mtiles\u001b[0m\u001b[1;33m:\u001b[0m\u001b[1;33m\u001b[0m\u001b[1;33m\u001b[0m\u001b[0m\n\u001b[0m\u001b[0;32m      4\u001b[0m     \u001b[1;31m# creating request url\u001b[0m\u001b[1;33m\u001b[0m\u001b[1;33m\u001b[0m\u001b[1;33m\u001b[0m\u001b[0m\n\u001b[0;32m      5\u001b[0m     \u001b[1;32mif\u001b[0m \u001b[0mdem_format\u001b[0m \u001b[1;33m==\u001b[0m \u001b[1;34m\"dgm\"\u001b[0m \u001b[1;32mor\u001b[0m \u001b[0mdem_format\u001b[0m \u001b[1;33m==\u001b[0m \u001b[1;34m\"dom\"\u001b[0m\u001b[1;33m:\u001b[0m\u001b[1;33m\u001b[0m\u001b[1;33m\u001b[0m\u001b[0m\n",
      "\u001b[1;31mNameError\u001b[0m: name 'tiles' is not defined"
     ]
    }
   ],
   "source": [
    "### Download request\n",
    "# 7. Download of dem tiles\n",
    "for tile in tiles:\n",
    "    # creating request url\n",
    "    if dem_format == \"dgm\" or dem_format == \"dom\":\n",
    "        request = \"https://geoportal.geoportal-th.de/hoehendaten/\"+dem_format.upper()+\"/\"+dem_format+\"_\"+dem_year+\"/\"+dem_format+\"1_\"+tile+\"_1_th_\"+dem_year+\".zip\"\n",
    "    elif dem_format == \"las\": \n",
    "        request = \"https://geoportal.geoportal-th.de/hoehendaten/\"+dem_format.upper()+\"/\"+dem_format+\"_\"+dem_year+\"/\"+dem_format+\"_\"+tile+\"_1_th_\"+dem_year+\".zip+\"\n",
    "    \n",
    "    dem_load = requests.get(request)\n",
    "    # download the file to data folder\n",
    "    current_dem = \"../Data/dem/\"+tile+\".zip\"\n",
    "    demzip = []\n",
    "    demzip.append(current_dem)\n",
    "    with open(current_dem, \"wb\") as file:\n",
    "        file.write(dem_load.content)\n",
    "        \n",
    "    # unzipping\n",
    "    with zipfile.ZipFile(current_dem, 'r') as zip_ref:\n",
    "        zip_ref.extractall(\"../Data/dem/\")\n",
    "\n",
    "# 8. Download of op tiles\n",
    "# fragt alle möglichen IDs ab\n",
    "# wenn hinter der ID eine Datei hinterlegt ist, speichert er die ID und den Kachel-Code aus dem Dateinamen zusammen ab\n",
    "# wenn alle Kacheln gefunden wurden, bricht es ab"
   ]
  },
  {
   "cell_type": "code",
   "execution_count": 5,
   "metadata": {},
   "outputs": [],
   "source": [
    "### Mosaicing with custom extent\n",
    "# 9. mosaicing\n",
    "demlist = []\n",
    "for file in os.scandir(\"../Data/dem/\"):\n",
    "    if file.name.endswith(\".xyz\"):\n",
    "        demlist.append(file.path)\n",
    "\n",
    "gdal.translate()\n",
    "\n",
    "# 10. clipping with shapefile"
   ]
  },
  {
   "cell_type": "code",
   "execution_count": 2,
   "metadata": {},
   "outputs": [
    {
     "name": "stdout",
     "output_type": "stream",
     "text": [
      "Help on function lol in module __main__:\n",
      "\n",
      "lol()\n",
      "    Diese funtkion macht Sachen\n",
      "\n"
     ]
    }
   ],
   "source": [
    "### Visualisation\n",
    "# 10. load open street map\n",
    "# 11. overlay mosaic"
   ]
  },
  {
   "cell_type": "code",
   "execution_count": 18,
   "metadata": {},
   "outputs": [],
   "source": []
  },
  {
   "cell_type": "code",
   "execution_count": null,
   "metadata": {},
   "outputs": [],
   "source": []
  }
 ],
 "metadata": {
  "kernelspec": {
   "display_name": "Python 3",
   "language": "python",
   "name": "python3"
  },
  "language_info": {
   "codemirror_mode": {
    "name": "ipython",
    "version": 3
   },
   "file_extension": ".py",
   "mimetype": "text/x-python",
   "name": "python",
   "nbconvert_exporter": "python",
   "pygments_lexer": "ipython3",
   "version": "3.8.5"
  }
 },
 "nbformat": 4,
 "nbformat_minor": 4
}
